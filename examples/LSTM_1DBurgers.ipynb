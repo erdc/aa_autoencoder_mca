{
 "cells": [
  {
   "cell_type": "markdown",
   "id": "e54b31c1",
   "metadata": {},
   "source": [
    "### Notebook to train a LSTM for system dynamics using an advection-aware autoencoder trained with parametric 1D Burgers equation snapshots  "
   ]
  },
  {
   "cell_type": "markdown",
   "id": "efd00d3e",
   "metadata": {
    "ExecuteTime": {
     "end_time": "2022-02-15T23:02:41.831743Z",
     "start_time": "2022-02-15T23:02:41.818977Z"
    }
   },
   "source": [
    "Consider the one-dimensional viscous Burgers' equation with Dirichlet boundary conditions which can be represented as \n",
    "\\begin{align}\n",
    "\\dot{u} + u \\frac{\\partial u}{\\partial x} = \\nu \\frac{\\partial^2 u}{\\partial x^2},\\\\\n",
    "u(x,0) = u_0, \\qquad x \\in [0,L], \\qquad u(0,t) = u(L.t) = 0\n",
    "\\end{align}\n",
    "\n",
    "Consider the initial condition\n",
    "\\begin{align}\n",
    "u(x,0) = \\frac{x}{1 + \\sqrt{\\frac{1}{t_0}} \\exp{\\left(Re \\frac{x^2}{4} \\right)}},\n",
    "\\end{align}\n",
    "\n",
    "Set $L=1$ and maximum time $t_{max} = 2$. An analytical solution exists and is given by \n",
    "\\begin{align}\n",
    "u(x,t) =  \\frac{\\frac{x}{t+1}}{1 + \\sqrt{\\frac{t+1}{t_0}} \\exp{\\left(Re \\frac{x^2}{4t+4} \\right)}}\n",
    "\\end{align}\n",
    "\n",
    "where $t_0 = \\exp{(Re/8)}$ and $Re = 1/\\nu$. \n",
    "The spatio-temporal domain $[0,L]\\times[0,t_{max}]$ is uniformly discretized into $200$ grid points and $500$ time points."
   ]
  },
  {
   "cell_type": "code",
   "execution_count": 2,
   "id": "9ce5c3c2",
   "metadata": {
    "ExecuteTime": {
     "end_time": "2022-05-29T18:54:49.247381Z",
     "start_time": "2022-05-29T18:54:44.058954Z"
    },
    "code_folding": [
     50
    ]
   },
   "outputs": [
    {
     "name": "stdout",
     "output_type": "stream",
     "text": [
      "Tensorflow v2.4.2\n"
     ]
    }
   ],
   "source": [
    "## Load modules\n",
    "%matplotlib inline\n",
    "\n",
    "import numpy as np\n",
    "from numpy import array\n",
    "import scipy\n",
    "import os\n",
    "import gc\n",
    "import argparse\n",
    "import time\n",
    "import importlib\n",
    "from importlib import reload\n",
    "from pathlib import Path\n",
    "import sys\n",
    "\n",
    "from sklearn.preprocessing import MinMaxScaler, StandardScaler, MaxAbsScaler\n",
    "\n",
    "import tensorflow as tf\n",
    "print(\"Tensorflow v\"+str(tf.__version__))\n",
    "if tf.__version__ == '1.15.0':\n",
    "    tf.compat.v1.enable_eager_execution()\n",
    "elif tf.__version__.split('.')[0] == 2: # in ['2.2.0','2.3.0']:\n",
    "    print(\"Setting Keras backend datatype\")\n",
    "    tf.keras.backend.set_floatx('float32')\n",
    "    tf.debugging.set_log_device_placement(True)\n",
    "    \n",
    "from tensorflow import keras\n",
    "from tensorflow.keras import backend as K\n",
    "from tensorflow.keras.layers import Embedding, Dense, LSTM, InputLayer, Dropout\n",
    "from tensorflow.keras.models import Sequential\n",
    "from tensorflow.keras.optimizers import Adam\n",
    "import logging\n",
    "tf.get_logger().setLevel(logging.ERROR)\n",
    "\n",
    "\n",
    "np.random.seed(0)\n",
    "\n",
    "import matplotlib\n",
    "import matplotlib.pyplot as plt\n",
    "from matplotlib import cm\n",
    "from matplotlib.ticker import LinearLocator, ScalarFormatter, FormatStrFormatter\n",
    "\n",
    "from matplotlib import animation\n",
    "matplotlib.rc('animation', html='html5')\n",
    "from IPython.display import display\n",
    "import matplotlib.ticker as ticker\n",
    "from matplotlib import rcParams\n",
    "from matplotlib.offsetbox import AnchoredText\n",
    "\n",
    "\n",
    "# Plot parameters\n",
    "plt.rc('font', family='serif')\n",
    "plt.rcParams.update({'font.size': 20,\n",
    "                     'lines.linewidth': 2,\n",
    "                     'lines.markersize':10,\n",
    "                     'axes.labelsize': 16, \n",
    "                     'axes.titlesize': 20,\n",
    "                     'xtick.labelsize': 16,\n",
    "                     'ytick.labelsize': 16,\n",
    "                     'legend.fontsize': 16,\n",
    "                     'axes.linewidth': 2})\n",
    "\n",
    "import itertools\n",
    "colors = itertools.cycle(['r','g','b','m','y','c'])\n",
    "markers = itertools.cycle(['p','d','o','^','s','x','D','H','v','*'])\n",
    "\n",
    "\n",
    "try:\n",
    "    base_dir.exists()\n",
    "except:\n",
    "    curr_dir = Path().resolve()\n",
    "    base_dir = curr_dir.parent\n",
    "data_dir = base_dir / \"data\" / \"burgers1d\"\n",
    "fig_dir = base_dir / \"figures\"\n",
    "utils_dir = base_dir / \"src\" / \"utils\"\n",
    "nn_dir = base_dir / \"src\" / \"nn_model\"\n",
    "work_dir = base_dir / \"examples\"\n",
    "model_dir = base_dir / \"data\" / \"saved_models\" \n",
    "\n",
    "sys.path.append(str(utils_dir.absolute()))\n",
    "sys.path.append(str(nn_dir.absolute()))\n",
    "\n",
    "import data_utils as du\n",
    "import tf_utils as tu\n",
    "import plot_utils as pu\n",
    "import aa_autoencoder as aa\n",
    "\n"
   ]
  },
  {
   "cell_type": "code",
   "execution_count": 2,
   "id": "ea45b0c0",
   "metadata": {
    "ExecuteTime": {
     "end_time": "2022-04-25T20:48:15.612031Z",
     "start_time": "2022-04-25T20:48:15.609497Z"
    }
   },
   "outputs": [],
   "source": [
    "device = 'gpu:0' # select gpu:# or cpu:#\n",
    "\n",
    "\n",
    "param_list = [50, 150, 300, 500, 400, 600]; flag = 'Re';   \n",
    "\n",
    "param_train = [400,]; param_test = param_train\n",
    "\n",
    "\n"
   ]
  },
  {
   "cell_type": "code",
   "execution_count": 3,
   "id": "1650cd2d",
   "metadata": {
    "ExecuteTime": {
     "end_time": "2022-04-25T20:48:15.729692Z",
     "start_time": "2022-04-25T20:48:15.613700Z"
    },
    "code_folding": []
   },
   "outputs": [
    {
     "name": "stdout",
     "output_type": "stream",
     "text": [
      "\n",
      "0: Loading snapshots for Re = 400.00 \n",
      "Loaded 500 snapshots of dimension 200 for ['burgers']  spanning times [0.000, 0.033] mins\n"
     ]
    },
    {
     "data": {
      "text/plain": [
       "70"
      ]
     },
     "execution_count": 3,
     "metadata": {},
     "output_type": "execute_result"
    }
   ],
   "source": [
    "## Load snapshot data\n",
    "model ='Burgers1D'\n",
    "soln_names = ['burgers']\n",
    "\n",
    "snap_data = {}; times_offline = {}\n",
    "Re = {}; \n",
    "snap_start = {}; snap_end = {}\n",
    "\n",
    "for indx,val in enumerate(param_train):\n",
    "    if flag == 'Re':\n",
    "        datafile = 'Burgers1d_Nx200_Nt500_Re%.2f'%(val)+'.npz'\n",
    "    data = np.load(os.path.join(data_dir, datafile))\n",
    "   \n",
    "    Re[indx] = float(datafile.split('_Re')[1].split('.npz')[0])\n",
    "    print(\"\\n%d: Loading snapshots for Re = %.2f \"%(indx, Re[indx]))\n",
    "    \n",
    "    snap_data[indx], times_offline[indx], nodes, Nx, Ny, snap_start[indx], snap_end[indx] = du.read_data(data, soln_names)\n",
    "    \n",
    "del data\n",
    "gc.collect()"
   ]
  },
  {
   "cell_type": "code",
   "execution_count": 4,
   "id": "73e1f291",
   "metadata": {
    "ExecuteTime": {
     "end_time": "2022-04-25T20:48:15.737030Z",
     "start_time": "2022-04-25T20:48:15.731680Z"
    },
    "code_folding": []
   },
   "outputs": [
    {
     "name": "stdout",
     "output_type": "stream",
     "text": [
      "0: Using 451 training snapshots for Re = 400.00 in time interval [0.00,1.80]\n"
     ]
    }
   ],
   "source": [
    "## Prepare training snapshots\n",
    "\n",
    "Nn = Nx\n",
    "\n",
    "## number of steps to skip in selecting training snapshots for SVD basis\n",
    "snap_incr=1\n",
    "tr_end = 0.9 ## Fraction of time history to be used for training\n",
    "\n",
    "## Subsample snapshots for building reduced basis\n",
    "Nt = {}\n",
    "Nt_train = {}\n",
    "train_end = {}\n",
    "for indx,val in enumerate(param_train):\n",
    "    Nt[indx] = times_offline[indx].size\n",
    "    train_end[indx] = int(Nt[indx]*tr_end)\n",
    "    Nt_train[indx] = times_offline[indx][:train_end[indx]+1:snap_incr].size\n",
    "    print('{5}: Using {0} training snapshots for {1} = {2:.2f} in time interval [{3:.2f},{4:.2f}]'.format(\n",
    "            Nt_train[indx], flag, param_train[indx], times_offline[indx][:train_end[indx]+1:snap_incr][0], \n",
    "            times_offline[indx][:train_end[indx]+1:snap_incr][-1], indx))\n",
    "\n"
   ]
  },
  {
   "cell_type": "code",
   "execution_count": 5,
   "id": "d4c771e1",
   "metadata": {
    "ExecuteTime": {
     "end_time": "2022-04-25T20:48:15.743623Z",
     "start_time": "2022-04-25T20:48:15.738688Z"
    },
    "code_folding": [
     0
    ]
   },
   "outputs": [],
   "source": [
    "def set_label(key):\n",
    "    if key == 'burgers':\n",
    "        ky = 'u'\n",
    "    \n",
    "    return ky"
   ]
  },
  {
   "cell_type": "code",
   "execution_count": 6,
   "id": "a5a7dc77",
   "metadata": {
    "ExecuteTime": {
     "end_time": "2022-04-25T20:48:15.751680Z",
     "start_time": "2022-04-25T20:48:15.745127Z"
    },
    "code_folding": []
   },
   "outputs": [
    {
     "name": "stdout",
     "output_type": "stream",
     "text": [
      "Generating shifted snapshots -----\n",
      "\n",
      "0: Generating 500 shifted snapshots for Re = 400, key = burgers\n"
     ]
    }
   ],
   "source": [
    "## Load shifted snapshots   \n",
    "print(\"Generating shifted snapshots -----\\n\")\n",
    "\n",
    "shifted_snap = {}\n",
    "for indx,val in enumerate(param_train):\n",
    "    \n",
    "    shifted_snap[indx] = {}\n",
    "    for key in soln_names:\n",
    "        tmp = snap_data[indx][key][:,int(Nt[indx]//2)]\n",
    "        shifted_snap[indx][key] = np.outer(tmp,np.ones(Nt[indx]))\n",
    "\n",
    "        print(\"%d: Generating %d shifted snapshots for Re = %d, key = %s\"%(indx, \n",
    "                                                            shifted_snap[indx][key].shape[1], \n",
    "                                                            Re[indx], key))\n",
    "        \n"
   ]
  },
  {
   "cell_type": "code",
   "execution_count": 7,
   "id": "20b2f868",
   "metadata": {
    "ExecuteTime": {
     "end_time": "2022-04-25T20:48:19.789773Z",
     "start_time": "2022-04-25T20:48:15.753350Z"
    },
    "code_folding": []
   },
   "outputs": [
    {
     "name": "stderr",
     "output_type": "stream",
     "text": [
      "WARNING:absl:Importing a function (__inference_autoencoder_layer_call_and_return_conditional_losses_6457) with ops with custom gradients. Will likely fail if a gradient is requested.\n",
      "WARNING:absl:Importing a function (__inference_decoder_layer_call_and_return_conditional_losses_5804) with ops with custom gradients. Will likely fail if a gradient is requested.\n",
      "WARNING:absl:Importing a function (__inference_encoder_layer_call_and_return_conditional_losses_6384) with ops with custom gradients. Will likely fail if a gradient is requested.\n",
      "WARNING:absl:Importing a function (__inference_autoencoder_layer_call_and_return_conditional_losses_6530) with ops with custom gradients. Will likely fail if a gradient is requested.\n",
      "WARNING:absl:Importing a function (__inference_encoder_layer_call_and_return_conditional_losses_5768) with ops with custom gradients. Will likely fail if a gradient is requested.\n",
      "WARNING:absl:Importing a function (__inference_shift_layer_call_and_return_conditional_losses_5950) with ops with custom gradients. Will likely fail if a gradient is requested.\n",
      "WARNING:absl:Importing a function (__inference_encoder_layer_call_and_return_conditional_losses_6130) with ops with custom gradients. Will likely fail if a gradient is requested.\n",
      "WARNING:absl:Importing a function (__inference_encoder_layer_call_and_return_conditional_losses_5840) with ops with custom gradients. Will likely fail if a gradient is requested.\n",
      "WARNING:absl:Importing a function (__inference_shift_layer_call_and_return_conditional_losses_5986) with ops with custom gradients. Will likely fail if a gradient is requested.\n",
      "WARNING:absl:Importing a function (__inference_decoder_layer_call_and_return_conditional_losses_6157) with ops with custom gradients. Will likely fail if a gradient is requested.\n",
      "WARNING:absl:Importing a function (__inference_decoder_layer_call_and_return_conditional_losses_6330) with ops with custom gradients. Will likely fail if a gradient is requested.\n",
      "WARNING:absl:Importing a function (__inference_decoder_layer_call_and_return_conditional_losses_5913) with ops with custom gradients. Will likely fail if a gradient is requested.\n",
      "WARNING:absl:Importing a function (__inference_shift_layer_call_and_return_conditional_losses_5886) with ops with custom gradients. Will likely fail if a gradient is requested.\n",
      "WARNING:absl:Importing a function (__inference_shift_layer_call_and_return_conditional_losses_6357) with ops with custom gradients. Will likely fail if a gradient is requested.\n"
     ]
    },
    {
     "name": "stdout",
     "output_type": "stream",
     "text": [
      "Re = [50, 150, 300, 500], train_end = 1.00*T,\n",
      "Trains both shift and true decoder, Time = 53m 57s,\n",
      "Step decay LR scheduler starting from 5.00e-04, Batch Size = 24,\n",
      "Decaying 10% every 330 epochs. Trained for 5000 epochs,\n",
      "For epochs <=1500: Loss = 0.02*Shift + 0.96*True,\n",
      "For epochs > 1500: Loss = 0.24*Shift + 0.74*True,\n",
      "90% NMSE + 10% Huber, L2 regularization, Scaling to [0,1],\n",
      "Both Encoder input and Decoder output are augmented by parameter value\n",
      "\n",
      "Model: \"autoencoder\"\n",
      "_________________________________________________________________\n",
      "Layer (type)                 Output Shape              Param #   \n",
      "=================================================================\n",
      "encoder (Encoder)            multiple                  10355     \n",
      "_________________________________________________________________\n",
      "shift (Shift)                multiple                  10551     \n",
      "_________________________________________________________________\n",
      "decoder (Decoder)            multiple                  10551     \n",
      "=================================================================\n",
      "Total params: 31,457\n",
      "Trainable params: 31,457\n",
      "Non-trainable params: 0\n",
      "_________________________________________________________________\n"
     ]
    }
   ],
   "source": [
    "## Load AE model\n",
    "\n",
    "load_ae_model = True\n",
    "\n",
    "if load_ae_model:\n",
    "    pre_trained_dir = model_dir / \"ae_param_models\" / \"saved_model_AA3\"\n",
    "\n",
    "    mnum_ae = str(pre_trained_dir).split('saved_model_')[1]\n",
    "    if mnum_ae == 'AA3':\n",
    "        augment_out = True; ae_model = 'saved_model_%s'%mnum_ae\n",
    "    elif mnum_ae == 'AA4':\n",
    "        augment_out = True; ae_model = 'saved_model_%s'%mnum_ae\n",
    "\n",
    "    ## When using custom loss functions while training, there are two ways\n",
    "    ## to load a saved model\n",
    "    ## 1) If loaded model will not be used for retraining, then\n",
    "    ##   use 'compile=False' option while loading so that TF does\n",
    "    ##   search for loss functions\n",
    "    \n",
    "    u_autoencoder, ae_training = aa.load_model(pre_trained_dir,mnum_ae)\n",
    "    \n",
    "    print(ae_training['msg'])\n",
    " \n",
    "    loss_ae = ae_training['loss']\n",
    "    vloss_ae = ae_training['valloss'] \n",
    "    sloss_ae = ae_training['shiftloss'] \n",
    "    rloss_ae = ae_training['reconloss'] \n",
    "    lr_ae = ae_training['lr']\n",
    "    epochs_ae = ae_training['epochs']\n",
    "    u_max = ae_training['umax']\n",
    "    u_min = ae_training['umin']\n",
    "    augment_out = ae_training['augment']\n",
    "    \n",
    "    u_autoencoder.summary()\n"
   ]
  },
  {
   "cell_type": "code",
   "execution_count": 8,
   "id": "1902079b",
   "metadata": {
    "ExecuteTime": {
     "end_time": "2022-04-25T20:48:19.798073Z",
     "start_time": "2022-04-25T20:48:19.791268Z"
    },
    "code_folding": [
     0
    ]
   },
   "outputs": [],
   "source": [
    "###  ***** Prepare Autoencoder input data *******\n",
    "## 1. Concatenate parametric snapshots to prepare\n",
    "##    input features for AA Autoencoder training\n",
    "\n",
    "u = np.empty((0,Nn),)\n",
    "u_shift = np.empty((0,Nn),)\n",
    "\n",
    "for indx,val in enumerate(param_train):\n",
    "    u_snap = snap_data[indx][soln_names[0]][:,:train_end[indx]+1:snap_incr].T    \n",
    "    u = np.vstack((u,u_snap))\n",
    "    u_shift_snap = shifted_snap[indx][soln_names[0]][:,:train_end[indx]+1:snap_incr].T\n",
    "    u_shift = np.vstack((u_shift,u_shift_snap))\n",
    "    \n",
    "\n",
    "validation_data = False\n",
    "skip_start = snap_incr//2\n",
    "if validation_data:\n",
    "    u_val = np.empty((0,Nn),)\n",
    "    u_val_shift = np.empty((0,Nn),)\n",
    "    for indx,val in enumerate(param_train):\n",
    "        u_val_snap = snap_data[indx][soln_names[0]][:,skip_start:train_end[indx]+1:snap_incr].T\n",
    "        u_val_shift_snap = shifted_snap[indx][soln_names[0]][:,skip_start:train_end[indx]+1:snap_incr].T\n",
    "        u_val = np.vstack((u_val, u_val_snap))\n",
    "        u_val_shift = np.vstack((u_val_shift, u_val_shift_snap))\n",
    "    "
   ]
  },
  {
   "cell_type": "code",
   "execution_count": 9,
   "id": "712aafbc",
   "metadata": {
    "ExecuteTime": {
     "end_time": "2022-04-25T20:48:19.804992Z",
     "start_time": "2022-04-25T20:48:19.800777Z"
    },
    "code_folding": [
     0
    ]
   },
   "outputs": [],
   "source": [
    "## Scale Input Features to lie between [0,1]\n",
    "\n",
    "scaling=True\n",
    "\n",
    "if scaling:\n",
    "    u, u_shift, _, _ = du.data_scaler(u, u_shift, u_max, u_min)\n",
    "\n",
    "    if validation_data:\n",
    "        u_val, u_val_shift, _, _ = du.data_scaler(u_val, u_val_shift, u_max, u_min)\n",
    "        \n",
    "else:\n",
    "    pass\n",
    "    "
   ]
  },
  {
   "cell_type": "code",
   "execution_count": 10,
   "id": "7083e001",
   "metadata": {
    "ExecuteTime": {
     "end_time": "2022-04-25T20:48:19.812389Z",
     "start_time": "2022-04-25T20:48:19.806473Z"
    },
    "code_folding": [
     0
    ]
   },
   "outputs": [],
   "source": [
    "###  ***** Prepare Autoencoder input data *******\n",
    "## 2. Augment input feature states with scaled \n",
    "##    parameter values\n",
    "\n",
    "u_sigma = np.empty((0,1),)\n",
    "u_shift_sigma = np.empty((0,1),)\n",
    "\n",
    "p_max = np.asarray(param_list).max()\n",
    "for indx,val in enumerate(param_train/p_max):\n",
    "    u_sigma = np.vstack((u_sigma,val*np.ones((Nt_train[indx],1))))\n",
    "    u_shift_sigma = np.vstack((u_shift_sigma,val*np.ones((Nt_train[indx],1)) ))\n",
    "    \n",
    "u = np.hstack(( u,u_sigma))\n",
    "u_shift = np.hstack(( u_shift, u_shift_sigma))\n",
    "\n",
    "\n",
    "if validation_data:\n",
    "    u_val_sigma = np.empty((0,1),)\n",
    "    u_val_shift_sigma = np.empty((0,1),)\n",
    "    for indx,val in enumerate(param_train/p_max):\n",
    "        val_steps = np.minimum(times_offline[indx][skip_start:train_end[indx]+1:snap_incr].size, Nt_train[indx])\n",
    "        u_val_sigma = np.vstack((u_val_sigma, val*np.ones((val_steps,1)) ))\n",
    "        u_val_shift_sigma = np.vstack((u_val_shift_sigma, val*np.ones((val_steps,1)) ))\n",
    "        \n",
    "        \n",
    "    u_val = np.hstack(( u_val, u_val_sigma))\n",
    "    u_val_shift = np.hstack(( u_val_shift, u_val_shift_sigma))\n",
    "\n"
   ]
  },
  {
   "cell_type": "code",
   "execution_count": 11,
   "id": "08d80fe1",
   "metadata": {
    "ExecuteTime": {
     "end_time": "2022-04-25T20:48:20.461175Z",
     "start_time": "2022-04-25T20:48:19.813563Z"
    }
   },
   "outputs": [
    {
     "name": "stdout",
     "output_type": "stream",
     "text": [
      "\n",
      "*********AE shift decoder reconstruction error*********\n",
      "\n",
      "u  Shift MSE: 6.968929796238901e-07\n",
      "\n",
      "*********AE true decoder reconstruction error*********\n",
      "\n",
      "u  Reconstruction MSE: 9.400624364576597e-07\n"
     ]
    }
   ],
   "source": [
    "encoded_u = u_autoencoder.encoder(u).numpy()\n",
    "if augment_out:\n",
    "    shift_u = u_autoencoder.shift(encoded_u).numpy()[:,:-1]\n",
    "    decoded_u = u_autoencoder.decoder(encoded_u).numpy()[:,:-1]\n",
    "else:\n",
    "    shift_u = u_autoencoder.shift(encoded_u).numpy()\n",
    "    decoded_u = u_autoencoder.decoder(encoded_u).numpy()\n",
    "\n",
    "encoded = encoded_u\n",
    "latent_dim_u = 5\n",
    "n_neurons = latent_dim_u\n",
    "\n",
    "print('\\n*********AE shift decoder reconstruction error*********\\n')\n",
    "print('u  Shift MSE: ' + str(np.mean(np.square(du.scaler_inverse(shift_u, u_max, u_min, scaling=scaling)-du.scaler_inverse(u_shift[:,:-1], u_max, u_min, scaling=scaling)))))\n",
    "\n",
    "print('\\n*********AE true decoder reconstruction error*********\\n')\n",
    "print('u  Reconstruction MSE: ' + str(np.mean(np.square(du.scaler_inverse(decoded_u, u_max, u_min, scaling=scaling)-du.scaler_inverse(u[:,:-1], u_max, u_min, scaling=scaling)))))\n",
    "\n"
   ]
  },
  {
   "cell_type": "code",
   "execution_count": 12,
   "id": "ac25e539",
   "metadata": {
    "ExecuteTime": {
     "end_time": "2022-04-25T20:48:20.467802Z",
     "start_time": "2022-04-25T20:48:20.463428Z"
    },
    "code_folding": [
     0
    ]
   },
   "outputs": [],
   "source": [
    "# LSTM Model configuration\n",
    "\n",
    "activation_lstm='swish'\n",
    "n_epochs_lstm = 4000\n",
    "lstm_steps = 5\n",
    "if param_train[0] == 50 or param_train[0] == 150:\n",
    "    hidden_lstm = 32\n",
    "else:\n",
    "    hidden_lstm = 150\n",
    "batch_size = 24\n",
    "size_buffer = max(list(Nt_train.values()))\n",
    "dropout_lstm = 0.0\n",
    "init_lr = 2e-5\n"
   ]
  },
  {
   "cell_type": "code",
   "execution_count": 13,
   "id": "6c7481f8",
   "metadata": {
    "ExecuteTime": {
     "end_time": "2022-04-25T20:48:20.477755Z",
     "start_time": "2022-04-25T20:48:20.469825Z"
    },
    "code_folding": [
     0
    ]
   },
   "outputs": [],
   "source": [
    "## define LSTM model\n",
    "\n",
    "class LSTMDynamics(tf.keras.models.Model):\n",
    "    def __init__(self, n_steps, n_features, hidden_dim, act, dropout):\n",
    "        super(LSTMDynamics, self).__init__()\n",
    "        self.lstm = Sequential()\n",
    "        self.lstm.add(LSTM(hidden_dim, activation=act, return_sequences=True, \n",
    "                           input_shape=(n_steps, n_features), ))\n",
    "        self.lstm.add(LSTM(hidden_dim, activation=act,))\n",
    "#         self.lstm.add(Dropout(dropout))\n",
    "        self.lstm.add(Dense(n_features))\n",
    "        \n",
    "    def call(self, x):\n",
    "        pred = self.lstm(x)\n",
    "        return pred\n",
    "    "
   ]
  },
  {
   "cell_type": "code",
   "execution_count": 14,
   "id": "1867caf1",
   "metadata": {
    "ExecuteTime": {
     "end_time": "2022-04-25T20:48:20.498256Z",
     "start_time": "2022-04-25T20:48:20.480018Z"
    },
    "code_folding": [
     1
    ]
   },
   "outputs": [],
   "source": [
    "## Custom training function for LSTM model \n",
    "def train_Dynamics(epochs, encoded_u_train, latent_dim, actvn, hidden_lstm, Nt, **kwargs):\n",
    "    \n",
    "    \n",
    "    try:\n",
    "        learn_rate = kwargs['lr']\n",
    "    except:\n",
    "        learn_rate = 0.0001\n",
    "    try:\n",
    "        batch_size = kwargs['batch_size']\n",
    "    except:\n",
    "        batch_size = 64\n",
    "        \n",
    "    try:\n",
    "        lstm_steps = kwargs['n_steps']\n",
    "    except:\n",
    "        lstm_steps = 2\n",
    "    try:\n",
    "        decay_factor = kwargs['decay'][0]; decay_rate = kwargs['decay'][1]\n",
    "    except:\n",
    "        decay_factor = 15; decay_rate = 0.9\n",
    "        \n",
    "    try: \n",
    "        learning_rate_decay = kwargs['lr_decay']\n",
    "        init_learn_rate = tf.keras.optimizers.schedules.ExponentialDecay(learn_rate, \n",
    "                                                        decay_steps=epochs*Nt//batch_size//decay_factor,\n",
    "                                                        decay_rate=decay_rate, staircase=True)\n",
    "    except:\n",
    "        init_learn_rate = learn_rate\n",
    "        \n",
    "    try:\n",
    "        lb = kwargs['loss_lb']\n",
    "    except:\n",
    "        lb = 0.9\n",
    "\n",
    "    try:\n",
    "        dropout_lstm = kwargs['dropout']\n",
    "    except:\n",
    "        dropout_lstm = 0.0\n",
    "    Nt_train = kwargs['Nt_train']\n",
    "    param_list = kwargs['p_list']\n",
    "        \n",
    "    model = LSTMDynamics(lstm_steps, latent_dim, hidden_lstm, actvn, dropout = dropout_lstm)\n",
    "    optimizer = tf.keras.optimizers.Adam(learning_rate=init_learn_rate)\n",
    "    \n",
    "    train_loss = []\n",
    "    lstm_loss = []\n",
    "    lr = []\n",
    "\n",
    "    start_time = time.time()\n",
    "    \n",
    "    for epoch in range(epochs):\n",
    "        \n",
    "        print(\"\\nStart of epoch %d\" % (epoch,))\n",
    "        if not learning_rate_decay:\n",
    "            batch_size = batch_size + 1\n",
    "        u_train = tu.gen_batch_lstm(encoded_u_train, batch_size, Nt_train, param_list)\n",
    "        \n",
    "        # Iterate over the batches of the dataset.\n",
    "        train_loss_value = 0; \n",
    "        lstm_loss_value = 0;\n",
    "        batched_data = 0\n",
    "        for step_train, x_batch_train in enumerate(u_train):\n",
    "            \n",
    "            x_batch_train = tf.cast(x_batch_train, tf.float32)\n",
    "            batched_data +=x_batch_train.shape[0]\n",
    "            \n",
    "            # Open a GradientTape to record the operations run\n",
    "            # during the forward pass, which enables auto-differentiation.\n",
    "            with tf.GradientTape() as tape:\n",
    "            \n",
    "                # Split into sequences for LSTM\n",
    "                encoded_input, encoded_target = tu.split_sequence_multi(x_batch_train, lstm_steps)\n",
    "                if encoded_target.shape[0] == 0:\n",
    "                    lstm_flag = 0                  \n",
    "                    lstm = tf.convert_to_tensor(x_batch_train[lstm_steps:,:])\n",
    "                else:\n",
    "                    lstm_flag = 1\n",
    "                    \n",
    "                    # LSTM time marching in encoded space\n",
    "                    lstm = model.lstm(encoded_input, training=True)\n",
    "\n",
    "                ## Loss wrt to LSTM evaluation on encoded input\n",
    "                loss = tu.comb_loss(encoded_target, lstm, lb=lb)\n",
    " \n",
    "                if lstm_flag == 0:\n",
    "                    loss_value = 0\n",
    "                else:\n",
    "                    loss_value = loss\n",
    "                         \n",
    "            train_loss_value += loss_value\n",
    "            if lstm_flag == 0:\n",
    "                lstm_loss_value += 0\n",
    "            else:\n",
    "                lstm_loss_value += loss\n",
    "                \n",
    "            # Use the gradient tape to automatically retrieve\n",
    "            # the gradients of the trainable variables with respect to the loss.\n",
    "            grads = tape.gradient(loss_value, model.trainable_variables,\n",
    "                        unconnected_gradients=tf.UnconnectedGradients.ZERO) \n",
    "            \n",
    "            # Run one step of gradient descent by updating\n",
    "            # the value of the variables to minimize the loss.\n",
    "            optimizer.apply_gradients(zip(grads, model.trainable_variables))\n",
    "\n",
    "            # Log every 10 batches.\n",
    "            if step_train % 10 == 0:\n",
    "                print(\"Training loss for batch %d: LSTM %.6e\"\n",
    "                % ((step_train+1), float(loss) ) )\n",
    "                print(\"Seen so far: %s samples\" % (batched_data)) \n",
    " \n",
    "        train_loss.append((train_loss_value/(step_train + 1)).numpy())\n",
    "        lstm_loss.append((lstm_loss_value/(step_train + 1)).numpy())\n",
    "        \n",
    "        if learning_rate_decay:\n",
    "            print(\"Epoch %d, Training Loss: %.6e, LR: %.3e\" \n",
    "                  % (epoch, float(train_loss[-1]),init_learn_rate(optimizer.iterations).numpy()))\n",
    "            lr.append(init_learn_rate(optimizer.iterations).numpy())\n",
    "        else:\n",
    "            print(\"Epoch %d, Training Loss: %.6e, LR: %.3e\" \n",
    "                  % (epoch, float(train_loss[-1]),learn_rate))\n",
    "            lr.append(learn_rate)    \n",
    "    \n",
    "    end_time = time.time()\n",
    "    print(\"****Total training time = {0}****\\n\".format(end_time - start_time))\n",
    "    \n",
    "    return model, train_loss, lstm_loss, lr\n",
    "\n"
   ]
  },
  {
   "cell_type": "code",
   "execution_count": 15,
   "id": "e18490a6",
   "metadata": {
    "ExecuteTime": {
     "end_time": "2022-04-25T20:48:21.914253Z",
     "start_time": "2022-04-25T20:48:20.500363Z"
    },
    "code_folding": [],
    "scrolled": false
   },
   "outputs": [
    {
     "name": "stderr",
     "output_type": "stream",
     "text": [
      "WARNING:absl:Importing a function (while_body_66948) with ops with custom gradients. Will likely fail if a gradient is requested.\n",
      "WARNING:absl:Importing a function (__inference_sequential_lstm_1_while_body_73822213_60113) with ops with custom gradients. Will likely fail if a gradient is requested.\n",
      "WARNING:absl:Importing a function (__inference_while_body_73820546_61555) with ops with custom gradients. Will likely fail if a gradient is requested.\n",
      "WARNING:absl:Importing a function (__inference_while_body_73821155_57988) with ops with custom gradients. Will likely fail if a gradient is requested.\n",
      "WARNING:absl:Importing a function (while_body_67461) with ops with custom gradients. Will likely fail if a gradient is requested.\n",
      "WARNING:absl:Importing a function (while_body_66220) with ops with custom gradients. Will likely fail if a gradient is requested.\n",
      "WARNING:absl:Importing a function (__inference_lstm_layer_call_and_return_conditional_losses_66314) with ops with custom gradients. Will likely fail if a gradient is requested.\n",
      "WARNING:absl:Importing a function (__inference_lstm_1_layer_call_and_return_conditional_losses_67555) with ops with custom gradients. Will likely fail if a gradient is requested.\n",
      "WARNING:absl:Importing a function (__inference_while_body_73820962_61336) with ops with custom gradients. Will likely fail if a gradient is requested.\n",
      "WARNING:absl:Importing a function (lstm_1_while_body_65999) with ops with custom gradients. Will likely fail if a gradient is requested.\n",
      "WARNING:absl:Importing a function (lstm_while_body_65488) with ops with custom gradients. Will likely fail if a gradient is requested.\n",
      "WARNING:absl:Importing a function (while_body_64703) with ops with custom gradients. Will likely fail if a gradient is requested.\n",
      "WARNING:absl:Importing a function (while_body_64525) with ops with custom gradients. Will likely fail if a gradient is requested.\n",
      "WARNING:absl:Importing a function (__inference_lstm_cell_13_layer_call_and_return_conditional_losses_67810) with ops with custom gradients. Will likely fail if a gradient is requested.\n",
      "WARNING:absl:Importing a function (__inference_lstm_1_layer_call_and_return_conditional_losses_67042) with ops with custom gradients. Will likely fail if a gradient is requested.\n",
      "WARNING:absl:Importing a function (while_body_64941) with ops with custom gradients. Will likely fail if a gradient is requested.\n",
      "WARNING:absl:Importing a function (__inference_lstm_1_layer_call_and_return_conditional_losses_65035) with ops with custom gradients. Will likely fail if a gradient is requested.\n",
      "WARNING:absl:Importing a function (__inference_lstm_cell_12_layer_call_and_return_conditional_losses_63383) with ops with custom gradients. Will likely fail if a gradient is requested.\n",
      "WARNING:absl:Importing a function (__inference_lstm_cell_12_layer_call_and_return_conditional_losses_67692) with ops with custom gradients. Will likely fail if a gradient is requested.\n",
      "WARNING:absl:Importing a function (__inference_lstm_layer_call_and_return_conditional_losses_64619) with ops with custom gradients. Will likely fail if a gradient is requested.\n",
      "WARNING:absl:Importing a function (__inference_lstm_1_layer_call_and_return_conditional_losses_64797) with ops with custom gradients. Will likely fail if a gradient is requested.\n",
      "WARNING:absl:Importing a function (__inference_lstm_cell_13_layer_call_and_return_conditional_losses_63877) with ops with custom gradients. Will likely fail if a gradient is requested.\n",
      "WARNING:absl:Importing a function (while_body_66733) with ops with custom gradients. Will likely fail if a gradient is requested.\n",
      "WARNING:absl:Importing a function (__inference_lstm_1_layer_call_and_return_conditional_losses_61433) with ops with custom gradients. Will likely fail if a gradient is requested.\n",
      "WARNING:absl:Importing a function (__inference_lstm_cell_13_layer_call_and_return_conditional_losses_67768) with ops with custom gradients. Will likely fail if a gradient is requested.\n",
      "WARNING:absl:Importing a function (while_body_67119) with ops with custom gradients. Will likely fail if a gradient is requested.\n",
      "WARNING:absl:Importing a function (__inference_lstm_1_layer_call_and_return_conditional_losses_67213) with ops with custom gradients. Will likely fail if a gradient is requested.\n",
      "WARNING:absl:Importing a function (__inference_while_body_73820724_59252) with ops with custom gradients. Will likely fail if a gradient is requested.\n",
      "WARNING:absl:Importing a function (__inference_lstm_1_layer_call_and_return_conditional_losses_59349) with ops with custom gradients. Will likely fail if a gradient is requested.\n",
      "WARNING:absl:Importing a function (__inference_lstm_cell_12_layer_call_and_return_conditional_losses_63227) with ops with custom gradients. Will likely fail if a gradient is requested.\n",
      "WARNING:absl:Importing a function (__inference_lstm_layer_call_and_return_conditional_losses_61652) with ops with custom gradients. Will likely fail if a gradient is requested.\n",
      "WARNING:absl:Importing a function (lstm_while_body_65832) with ops with custom gradients. Will likely fail if a gradient is requested.\n",
      "WARNING:absl:Importing a function (__inference_sequential_layer_call_and_return_conditional_losses_66099) with ops with custom gradients. Will likely fail if a gradient is requested.\n",
      "WARNING:absl:Importing a function (__inference_lstm_layer_call_and_return_conditional_losses_66827) with ops with custom gradients. Will likely fail if a gradient is requested.\n",
      "WARNING:absl:Importing a function (__inference_sequential_lstm_while_body_73822046_57743) with ops with custom gradients. Will likely fail if a gradient is requested.\n",
      "WARNING:absl:Importing a function (__inference_lstm_dynamics_layer_call_and_return_conditional_losses_60309) with ops with custom gradients. Will likely fail if a gradient is requested.\n",
      "WARNING:absl:Importing a function (while_body_67290) with ops with custom gradients. Will likely fail if a gradient is requested.\n",
      "WARNING:absl:Importing a function (__inference_lstm_1_layer_call_and_return_conditional_losses_67384) with ops with custom gradients. Will likely fail if a gradient is requested.\n",
      "WARNING:absl:Importing a function (__inference_lstm_layer_call_and_return_conditional_losses_58193) with ops with custom gradients. Will likely fail if a gradient is requested.\n",
      "WARNING:absl:Importing a function (while_body_66391) with ops with custom gradients. Will likely fail if a gradient is requested.\n",
      "WARNING:absl:Importing a function (__inference_lstm_layer_call_and_return_conditional_losses_66485) with ops with custom gradients. Will likely fail if a gradient is requested.\n",
      "WARNING:absl:Importing a function (__inference_lstm_cell_12_layer_call_and_return_conditional_losses_67650) with ops with custom gradients. Will likely fail if a gradient is requested.\n",
      "WARNING:absl:Importing a function (while_body_66562) with ops with custom gradients. Will likely fail if a gradient is requested.\n",
      "WARNING:absl:Importing a function (__inference_lstm_layer_call_and_return_conditional_losses_66656) with ops with custom gradients. Will likely fail if a gradient is requested.\n",
      "WARNING:absl:Importing a function (__inference_sequential_lstm_while_body_73821702_58486) with ops with custom gradients. Will likely fail if a gradient is requested.\n",
      "WARNING:absl:Importing a function (lstm_1_while_body_65655) with ops with custom gradients. Will likely fail if a gradient is requested.\n",
      "WARNING:absl:Importing a function (__inference_sequential_layer_call_and_return_conditional_losses_65755) with ops with custom gradients. Will likely fail if a gradient is requested.\n",
      "WARNING:absl:Importing a function (__inference_sequential_lstm_1_while_body_73821869_57798) with ops with custom gradients. Will likely fail if a gradient is requested.\n",
      "WARNING:absl:Importing a function (__inference_lstm_dynamics_layer_call_and_return_conditional_losses_58682) with ops with custom gradients. Will likely fail if a gradient is requested.\n",
      "WARNING:absl:Importing a function (__inference_lstm_cell_13_layer_call_and_return_conditional_losses_64033) with ops with custom gradients. Will likely fail if a gradient is requested.\n",
      "WARNING:absl:Importing a function (while_body_65134) with ops with custom gradients. Will likely fail if a gradient is requested.\n"
     ]
    },
    {
     "name": "stderr",
     "output_type": "stream",
     "text": [
      "WARNING:absl:Importing a function (__inference_lstm_layer_call_and_return_conditional_losses_65228) with ops with custom gradients. Will likely fail if a gradient is requested.\n"
     ]
    },
    {
     "name": "stdout",
     "output_type": "stream",
     "text": [
      "Re = [400], Epochs = 4000\n",
      "LSTM window = 5, 150 Neurons per LSTM layer,\n",
      "Trains LSTM in latent space, LR scheduler starting from 2.00e-05,\n",
      "1.0*NMSE in latent space, No regularization, Batch = 24,\n",
      "Swish activation, No Input Scaling for LSTM, 2 LSTM layers\n",
      "LR decaying by 10% every 304 epochs\n",
      "Using AA Autoencoder Model: AA3\n",
      "Model: \"sequential\"\n",
      "_________________________________________________________________\n",
      "Layer (type)                 Output Shape              Param #   \n",
      "=================================================================\n",
      "lstm (LSTM)                  (None, 5, 150)            93600     \n",
      "_________________________________________________________________\n",
      "lstm_1 (LSTM)                (None, 150)               180600    \n",
      "_________________________________________________________________\n",
      "dense (Dense)                (None, 5)                 755       \n",
      "=================================================================\n",
      "Total params: 274,955\n",
      "Trainable params: 274,955\n",
      "Non-trainable params: 0\n",
      "_________________________________________________________________\n"
     ]
    }
   ],
   "source": [
    "load_lstm_model = False\n",
    "\n",
    "p_indx = param_list.index(param_train[0])+1; \n",
    "pdir = 'saved_model_%d'%p_indx\n",
    "\n",
    "if load_lstm_model:\n",
    "    \n",
    "    pre_trained_dir = model_dir / \"standalone_lstm_models\" / pdir\n",
    "#     pre_trained_dir = model_dir+'standalone_lstm_models/saved_model_%d'%p_indx\n",
    "    \n",
    "    mnum = int(str(pre_trained_dir).split('saved_model_')[1])\n",
    "\n",
    "    ## When using custom loss functions while training, there are two ways\n",
    "    ## to load a saved model\n",
    "    ## 1) If loaded model will not be used for retraining, then\n",
    "    ##   use 'compile=False' option while loading so that TF does\n",
    "    ##   search for loss functions\n",
    "    u_lstm = tf.keras.models.load_model(pre_trained_dir / \"u_lstm\",compile=False)\n",
    "    histdir = 'model_history_%d.npz'%mnum\n",
    "    lstm_training = np.load(pre_trained_dir / histdir)\n",
    "\n",
    "    print(lstm_training['msg'])\n",
    "\n",
    "    loss_lstm = lstm_training['loss']\n",
    "    lloss_lstm = lstm_training['lstmloss'] \n",
    "    lr_lstm = lstm_training['lr']\n",
    "    n_epochs_lstm = lstm_training['epochs']\n",
    "    ae_model = lstm_training['ae_model']\n",
    "    ldim_lstm = lstm_training['ldim']\n",
    "    scaling_lstm = lstm_training['scaling']\n",
    "    \n",
    "    u_lstm.lstm.summary()\n",
    "    \n",
    "    if scaling_lstm:\n",
    "        encoded_u_scaled, _, umax_latent, umin_latent = du.data_scaler(encoded_u, encoded_u,)\n",
    "\n",
    "    else:\n",
    "        encoded_u_scaled = encoded_u\n",
    "    "
   ]
  },
  {
   "cell_type": "code",
   "execution_count": 16,
   "id": "d6a08c90",
   "metadata": {
    "ExecuteTime": {
     "end_time": "2022-04-25T20:48:21.918926Z",
     "start_time": "2022-04-25T20:48:21.915478Z"
    },
    "code_folding": [],
    "scrolled": true
   },
   "outputs": [],
   "source": [
    "\n",
    "if not load_lstm_model:\n",
    "    encoded_u_train = u_autoencoder.encoder(u).numpy()\n",
    "    scaling_lstm=False\n",
    "\n",
    "    if scaling_lstm:\n",
    "        encoded_u_scaled, _, umax_latent, umin_latent = du.data_scaler(encoded_u_train, encoded_u_train,)\n",
    "\n",
    "    else:\n",
    "        encoded_u_scaled = encoded_u_train\n",
    "\n",
    "\n",
    "    u_lstm, loss_lstm, lloss_lstm, lr_lstm = train_Dynamics(n_epochs_lstm, encoded_u_scaled,\n",
    "                                                            latent_dim_u, activation_lstm, hidden_lstm,\n",
    "                                                            size_buffer, n_steps = lstm_steps,\n",
    "                                                            Nt_train = Nt_train, p_list = param_train,\n",
    "                                                            decay = [13, 0.9], dropout = dropout_lstm,\n",
    "                                                            batch_size = batch_size, loss_lb = 1.0,\n",
    "                                                            lr = init_lr, lr_decay=True,)\n",
    "\n"
   ]
  },
  {
   "cell_type": "code",
   "execution_count": 17,
   "id": "2f5884b3",
   "metadata": {
    "ExecuteTime": {
     "end_time": "2022-04-25T20:48:22.137663Z",
     "start_time": "2022-04-25T20:48:21.920020Z"
    },
    "code_folding": [
     0
    ]
   },
   "outputs": [
    {
     "name": "stdout",
     "output_type": "stream",
     "text": [
      "===SAMPLE TARGET===\n",
      "[[-0.77266693  2.3572283  -1.5551268  -1.2187544   2.7564828 ]\n",
      " [-0.78597474  2.357088   -1.5124112  -1.1838372   2.7883637 ]]\n",
      "\n",
      "===SAMPLE PRED===\n",
      "[[-0.77266794  2.3709671  -1.566726   -1.2265201   2.7674584 ]\n",
      " [-0.78784645  2.3698342  -1.527164   -1.192429    2.806456  ]]\n"
     ]
    }
   ],
   "source": [
    "## Prediction visualization in latent space\n",
    "\n",
    "param_num = 0\n",
    "times_plot = times_offline[param_num][:train_end[param_num]+1:snap_incr]\n",
    "\n",
    "def select_variable(encoded_var, param_num):\n",
    "    p_inx = sum(list(Nt_train.values())[:param_num]); \n",
    "    encoded = encoded_var[p_indx:p_indx+Nt_train[param_num],:]; ldim = latent_dim_u\n",
    "    return encoded, ldim, p_inx\n",
    "\n",
    "\n",
    "encoded_true, ldim, p_inx = select_variable(encoded_u, param_num) \n",
    "if scaling_lstm:\n",
    "    encoded_true_scaled, _,_,_ = du.data_scaler(encoded_true, encoded_true,umax_latent, umin_latent)\n",
    "else:\n",
    "    encoded_true_scaled = encoded_true\n",
    "\n",
    "u_dynamics_input, u_dynamics_target = tu.split_sequence_multi(encoded_true_scaled, lstm_steps)\n",
    "u_dynamics_pred = u_lstm.predict(u_dynamics_input)\n",
    "\n",
    "print(\"===SAMPLE TARGET===\")\n",
    "print(u_dynamics_target[:2,:])\n",
    "print(\"\\n===SAMPLE PRED===\")\n",
    "print(u_dynamics_pred[:2,:])\n",
    "\n",
    "\n"
   ]
  },
  {
   "cell_type": "code",
   "execution_count": 18,
   "id": "8245c69a",
   "metadata": {
    "ExecuteTime": {
     "end_time": "2022-04-25T20:48:22.143559Z",
     "start_time": "2022-04-25T20:48:22.139805Z"
    }
   },
   "outputs": [
    {
     "name": "stdout",
     "output_type": "stream",
     "text": [
      "******LSTM reconstruction error*****\n",
      "$z$  Reconstruction MSE: 3.7742393e-05\n"
     ]
    }
   ],
   "source": [
    "print(\"******LSTM reconstruction error*****\")\n",
    "print('$z$  Reconstruction MSE: ' + str(np.mean(np.square(u_dynamics_pred - u_dynamics_target))))\n"
   ]
  },
  {
   "cell_type": "code",
   "execution_count": 19,
   "id": "20e03e74",
   "metadata": {
    "ExecuteTime": {
     "end_time": "2022-04-25T20:48:22.154202Z",
     "start_time": "2022-04-25T20:48:22.145730Z"
    },
    "code_folding": []
   },
   "outputs": [],
   "source": [
    "## Save the trained LSTM model\n",
    "\n",
    "save_lstm_model = True\n",
    "\n",
    "mnum=p_indx\n",
    "\n",
    "if save_lstm_model:\n",
    "\n",
    "    savedir = model_dir / \"standalone_lstm_models\" / pdir\n",
    "    savedir.mkdir(parents=True, exist_ok=True)\n",
    "\n",
    "    \n",
    "    ## To use TF SavedModel format with a custom training loop,\n",
    "    ## call model.predict() on some input tensors first.\n",
    "    ## Otherwise TF doesn't know the shape and dtype of input data\n",
    "    ## it should be expecting, and thus cannot create it's weight \n",
    "    ## variables. When using model.fit() this step happens automatically.\n",
    "#     test_predict = u_lstm.predict(u_input_test)\n",
    "\n",
    "    u_lstm.save(savedir / \"u_lstm\")\n",
    "    msg = 'Re = [%d], Epochs = %d'%(Re[0],n_epochs_lstm)\\\n",
    "    +'\\nLSTM window = %d, %d Neurons per LSTM layer,'%(lstm_steps, hidden_lstm)\\\n",
    "    +'\\nTrains LSTM in latent space, LR scheduler starting from %.2e,'%init_lr\\\n",
    "    +'\\n1.0*NMSE in latent space, No regularization, Batch = %d,'%batch_size\\\n",
    "    +'\\nSwish activation, No Input Scaling for LSTM, 2 LSTM layers'\\\n",
    "    +'\\nLR decaying by 10% every 304 epochs'\\\n",
    "    +'\\nUsing AA Autoencoder Model: %s'%mnum_ae\n",
    "    print(msg)\n",
    "    histdir = 'model_history_%d.npz'%mnum\n",
    "    \n",
    "    np.savez_compressed(savedir / histdir, \n",
    "                        loss = loss_lstm, lstmloss = lloss_lstm,\n",
    "                        scaling = scaling_lstm,\n",
    "                        lr = lr_lstm, epochs = n_epochs_lstm, msg=msg,\n",
    "                        ae_model = ae_model, ldim = latent_dim_u)  \n"
   ]
  },
  {
   "cell_type": "code",
   "execution_count": 20,
   "id": "e673f659",
   "metadata": {
    "ExecuteTime": {
     "end_time": "2022-04-25T20:48:23.066714Z",
     "start_time": "2022-04-25T20:48:22.156249Z"
    },
    "code_folding": [
     14
    ],
    "scrolled": false
   },
   "outputs": [
    {
     "name": "stdout",
     "output_type": "stream",
     "text": [
      "Model: \"sequential\"\n",
      "_________________________________________________________________\n",
      "Layer (type)                 Output Shape              Param #   \n",
      "=================================================================\n",
      "lstm (LSTM)                  (None, 5, 150)            93600     \n",
      "_________________________________________________________________\n",
      "lstm_1 (LSTM)                (None, 150)               180600    \n",
      "_________________________________________________________________\n",
      "dense (Dense)                (None, 5)                 755       \n",
      "=================================================================\n",
      "Total params: 274,955\n",
      "Trainable params: 274,955\n",
      "Non-trainable params: 0\n",
      "_________________________________________________________________\n"
     ]
    },
    {
     "data": {
      "image/png": "[encoded data removed]",
      "text/plain": [
       "<Figure size 1008x648 with 2 Axes>"
      ]
     },
     "metadata": {
      "needs_background": "light"
     },
     "output_type": "display_data"
    }
   ],
   "source": [
    "### Training Characteristics\n",
    "u_lstm.lstm.summary()\n",
    "\n",
    "fig, ax = plt.subplots(nrows=2,ncols=2,figsize=(14,9),constrained_layout=True)\n",
    "\n",
    "num_epochs_lstm = np.arange(n_epochs_lstm)\n",
    "\n",
    "ax[0,0].semilogy(num_epochs_lstm,loss_lstm,label='u:train_loss',marker='v',markevery=128)\n",
    "ax[0,0].set_title('Training loss in semi-log scale')\n",
    "\n",
    "ax[0,1].plot(num_epochs_lstm,lr_lstm,label='u:LR',marker='p',markevery=128)\n",
    "ax[0,1].set_title('Learning rate decay')\n",
    "\n",
    "for i in range(1):\n",
    "    ax[i,0].legend(); ax[i,1].legend()\n",
    "    ax[i,0].set_xlabel('Epochs') \n",
    "ax[1,1].remove()\n",
    "ax[1,0].remove()\n",
    "\n"
   ]
  },
  {
   "cell_type": "code",
   "execution_count": 21,
   "id": "3ea82423",
   "metadata": {
    "ExecuteTime": {
     "end_time": "2022-04-25T20:48:23.110072Z",
     "start_time": "2022-04-25T20:48:23.068402Z"
    },
    "code_folding": [
     0
    ]
   },
   "outputs": [],
   "source": [
    "### Predict using data points not in training set\n",
    "ky = soln_names[0]\n",
    "p_num=0\n",
    "u_test = snap_data[p_num][ky][:,:snap_end[p_num]+1].T\n",
    "u_shift_test = shifted_snap[p_num][ky][:,:snap_end[p_num]+1].T\n",
    "\n",
    "if scaling:\n",
    "    u_test, u_shift_test, _, _ = du.data_scaler(u_test, u_shift_test, u_max, u_min)\n",
    "    \n",
    "u_test = np.hstack(( u_test, param_train[p_num]/p_max*np.ones((u_test.shape[0],1)) ))\n",
    "u_shift_test = np.hstack(( u_shift_test, param_train[p_num]/p_max*np.ones((u_shift_test.shape[0],1)) ))\n",
    "\n",
    "encoded_u_test = u_autoencoder.encoder(u_test).numpy()\n",
    "decoded_u_test = u_autoencoder.decoder(encoded_u_test).numpy()\n",
    "\n"
   ]
  },
  {
   "cell_type": "code",
   "execution_count": 22,
   "id": "8159e231",
   "metadata": {
    "ExecuteTime": {
     "end_time": "2022-04-25T20:48:23.227485Z",
     "start_time": "2022-04-25T20:48:23.111773Z"
    },
    "code_folding": [
     3
    ]
   },
   "outputs": [],
   "source": [
    "\n",
    "if scaling_lstm:\n",
    "    encoded_u_test_scaled, _,_,_  = du.data_scaler(encoded_u_test, encoded_u_test, umax_latent, umin_latent)\n",
    "else:\n",
    "    encoded_u_test_scaled = encoded_u_test\n",
    "u_dynamics_test_input, u_dynamics_test_target = tu.split_sequence_multi(encoded_u_test_scaled, lstm_steps)\n",
    "u_dynamics_test_pred = u_lstm.predict(u_dynamics_test_input)\n"
   ]
  },
  {
   "cell_type": "code",
   "execution_count": 23,
   "id": "f726eba7",
   "metadata": {
    "ExecuteTime": {
     "end_time": "2022-04-25T20:48:23.261473Z",
     "start_time": "2022-04-25T20:48:23.230086Z"
    }
   },
   "outputs": [],
   "source": [
    "if scaling_lstm:\n",
    "    u_dynamics_test_pred_unscaled  = du.scaler_inverse(u_dynamics_test_pred, umax_latent, umin_latent, scaling=scaling_lstm)\n",
    "else:\n",
    "    u_dynamics_test_pred_unscaled  = u_dynamics_test_pred\n",
    "\n",
    "if augment_out:\n",
    "    decoded_test_pred = u_autoencoder.decoder(u_dynamics_test_pred_unscaled).numpy()[:,:-1]\n",
    "else:\n",
    "    decoded_test_pred = u_autoencoder.decoder(u_dynamics_test_pred_unscaled).numpy()\n",
    "    \n",
    "pred = {}\n",
    "pred[soln_names[0]] = du.scaler_inverse(decoded_test_pred, u_max, u_min, scaling=scaling).T\n"
   ]
  },
  {
   "cell_type": "code",
   "execution_count": 24,
   "id": "7ddd9114",
   "metadata": {
    "ExecuteTime": {
     "end_time": "2022-04-25T20:48:23.735055Z",
     "start_time": "2022-04-25T20:48:23.263549Z"
    },
    "code_folding": [
     0
    ]
   },
   "outputs": [
    {
     "data": {
      "image/png": "[encoded data removed]",
      "text/plain": [
       "<Figure size 504x792 with 5 Axes>"
      ]
     },
     "metadata": {
      "needs_background": "light"
     },
     "output_type": "display_data"
    }
   ],
   "source": [
    "## Compare LSTM predictions in latent space\n",
    "encoded_truth = encoded_u_test[lstm_steps:,:]; ldim = latent_dim_u; encoded_pred = u_dynamics_test_pred_unscaled\n",
    " \n",
    "num_rows = np.maximum(encoded_truth.shape[1],3)\n",
    "\n",
    "fig, ax = plt.subplots(nrows=num_rows,ncols=1,figsize=(7,num_rows*2.2),) \n",
    "fig.tight_layout()\n",
    "fig.subplots_adjust(top=0.95)\n",
    "\n",
    "for i in range(num_rows):\n",
    "    tt1 = ax[i].plot(times_offline[p_num][lstm_steps:snap_end[p_num]+1],encoded_truth[:,i],\n",
    "                     label='Truth',marker='o',markevery=43)\n",
    "    tt2 = ax[i].plot(times_offline[p_num][lstm_steps:snap_end[p_num]+1],encoded_pred[:,i],\n",
    "                     label='Pred',marker='s',markevery=51)\n",
    "    ax[i].vlines(x = times_offline[p_num][train_end[p_num]], colors='purple', linestyle='dashdot',\n",
    "                 ymin = encoded_truth[:,i].min(), ymax = encoded_truth[:,i].max(),)\n",
    "    ax[i].set_ylabel('Mode %d'%(i))\n",
    "ax[i].set_xlabel('Time') \n",
    "lg = ax[0].legend(ncol=2,bbox_to_anchor=(0.75, 1.45))\n",
    "\n",
    "# plt.savefig(fig_dir+'Burgers1D_LSTM%d_%s_Re%.1f_AEmodes_n%d_swish_NMSE_epochs%d.png'%(mnum,mnum_ae,Re[p_num],ldim,n_epochs_lstm),dpi=300,bbox_extra_artists=(lg,),bbox_inches='tight')\n"
   ]
  },
  {
   "cell_type": "code",
   "execution_count": 25,
   "id": "8516e339",
   "metadata": {
    "ExecuteTime": {
     "end_time": "2022-04-25T20:48:23.950267Z",
     "start_time": "2022-04-25T20:48:23.736362Z"
    },
    "code_folding": []
   },
   "outputs": [
    {
     "data": {
      "image/png": "[encoded data removed]",
      "text/plain": [
       "<Figure size 504x432 with 1 Axes>"
      ]
     },
     "metadata": {
      "needs_background": "light"
     },
     "output_type": "display_data"
    }
   ],
   "source": [
    "### Visualizing direct reconstruction using true decoder\n",
    "\n",
    "\n",
    "fig = plt.figure(figsize=(7,6))\n",
    "ky = soln_names[0]; \n",
    "np.random.seed(2021)\n",
    "fig.tight_layout()\n",
    "fig.subplots_adjust(top=0.68)\n",
    "\n",
    "\n",
    "pu.plot_decoded_1d(pred,snap_data[p_num],times_offline[p_num][lstm_steps:],\n",
    "                   times_offline[p_num][:],nodes,ky,flag='AE-LSTM',tr_end = 0.95) \n",
    "\n",
    "\n",
    "# plt.savefig(fig_dir+'Burgers1D_LSTM%d_%s_Re%.1f_recon_n%d_swish_NMSE_epochs%d.png'%(mnum,mnum_ae,Re[p_num],ldim,n_epochs_lstm),dpi=300,bbox_inches='tight')\n",
    " "
   ]
  },
  {
   "cell_type": "code",
   "execution_count": null,
   "id": "153794c5",
   "metadata": {},
   "outputs": [],
   "source": []
  }
 ],
 "metadata": {
  "kernelspec": {
   "display_name": "Python 3",
   "language": "python",
   "name": "python3"
  },
  "language_info": {
   "codemirror_mode": {
    "name": "ipython",
    "version": 3
   },
   "file_extension": ".py",
   "mimetype": "text/x-python",
   "name": "python",
   "nbconvert_exporter": "python",
   "pygments_lexer": "ipython3",
   "version": "3.8.0"
  },
  "latex_envs": {
   "LaTeX_envs_menu_present": true,
   "autoclose": false,
   "autocomplete": true,
   "bibliofile": "biblio.bib",
   "cite_by": "apalike",
   "current_citInitial": 1,
   "eqLabelWithNumbers": true,
   "eqNumInitial": 1,
   "hotkeys": {
    "equation": "Ctrl-E",
    "itemize": "Ctrl-I"
   },
   "labels_anchors": false,
   "latex_user_defs": false,
   "report_style_numbering": false,
   "user_envs_cfg": false
  },
  "varInspector": {
   "cols": {
    "lenName": 16,
    "lenType": 16,
    "lenVar": 40
   },
   "kernels_config": {
    "python": {
     "delete_cmd_postfix": "",
     "delete_cmd_prefix": "del ",
     "library": "var_list.py",
     "varRefreshCmd": "print(var_dic_list())"
    },
    "r": {
     "delete_cmd_postfix": ") ",
     "delete_cmd_prefix": "rm(",
     "library": "var_list.r",
     "varRefreshCmd": "cat(var_dic_list()) "
    }
   },
   "types_to_exclude": [
    "module",
    "function",
    "builtin_function_or_method",
    "instance",
    "_Feature"
   ],
   "window_display": false
  }
 },
 "nbformat": 4,
 "nbformat_minor": 5
}
